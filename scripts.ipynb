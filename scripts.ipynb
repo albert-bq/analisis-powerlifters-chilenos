{
 "cells": [
  {
   "cell_type": "code",
   "execution_count": 1,
   "id": "9d4c1fa2",
   "metadata": {},
   "outputs": [
    {
     "name": "stdout",
     "output_type": "stream",
     "text": [
      "Librerías importadas correctamente.\n"
     ]
    }
   ],
   "source": [
    "import pandas as pd\n",
    "from sklearn.model_selection import train_test_split\n",
    "from sklearn.ensemble import RandomForestRegressor\n",
    "from sklearn.compose import ColumnTransformer\n",
    "from sklearn.preprocessing import OneHotEncoder\n",
    "from sklearn.pipeline import Pipeline\n",
    "from sklearn.metrics import mean_absolute_error, r2_score\n",
    "import joblib\n",
    "import numpy as np\n",
    "\n",
    "print(\"Librerías importadas correctamente.\")"
   ]
  },
  {
   "cell_type": "code",
   "execution_count": 9,
   "id": "82ef0314",
   "metadata": {},
   "outputs": [
    {
     "name": "stdout",
     "output_type": "stream",
     "text": [
      "Registros antes de la limpieza: 1377\n",
      "Registros después de eliminar nulos: 849\n",
      "Registros después de eliminar levantamientos inválidos: 847\n",
      "\n",
      "DataFrame limpio y listo para el modelo multiobjetivo:\n"
     ]
    },
    {
     "data": {
      "text/html": [
       "<div>\n",
       "<style scoped>\n",
       "    .dataframe tbody tr th:only-of-type {\n",
       "        vertical-align: middle;\n",
       "    }\n",
       "\n",
       "    .dataframe tbody tr th {\n",
       "        vertical-align: top;\n",
       "    }\n",
       "\n",
       "    .dataframe thead th {\n",
       "        text-align: right;\n",
       "    }\n",
       "</style>\n",
       "<table border=\"1\" class=\"dataframe\">\n",
       "  <thead>\n",
       "    <tr style=\"text-align: right;\">\n",
       "      <th></th>\n",
       "      <th>Age</th>\n",
       "      <th>BodyweightKg</th>\n",
       "      <th>Sex</th>\n",
       "      <th>Equipment</th>\n",
       "      <th>Best3SquatKg</th>\n",
       "      <th>Best3BenchKg</th>\n",
       "      <th>Best3DeadliftKg</th>\n",
       "    </tr>\n",
       "  </thead>\n",
       "  <tbody>\n",
       "    <tr>\n",
       "      <th>171</th>\n",
       "      <td>17.5</td>\n",
       "      <td>72.58</td>\n",
       "      <td>M</td>\n",
       "      <td>Raw</td>\n",
       "      <td>205.0</td>\n",
       "      <td>112.5</td>\n",
       "      <td>250.0</td>\n",
       "    </tr>\n",
       "    <tr>\n",
       "      <th>172</th>\n",
       "      <td>32.0</td>\n",
       "      <td>67.20</td>\n",
       "      <td>F</td>\n",
       "      <td>Raw</td>\n",
       "      <td>132.5</td>\n",
       "      <td>92.5</td>\n",
       "      <td>152.5</td>\n",
       "    </tr>\n",
       "    <tr>\n",
       "      <th>173</th>\n",
       "      <td>25.5</td>\n",
       "      <td>73.30</td>\n",
       "      <td>M</td>\n",
       "      <td>Raw</td>\n",
       "      <td>252.5</td>\n",
       "      <td>175.0</td>\n",
       "      <td>312.5</td>\n",
       "    </tr>\n",
       "    <tr>\n",
       "      <th>174</th>\n",
       "      <td>29.5</td>\n",
       "      <td>65.74</td>\n",
       "      <td>M</td>\n",
       "      <td>Raw</td>\n",
       "      <td>220.0</td>\n",
       "      <td>140.0</td>\n",
       "      <td>250.0</td>\n",
       "    </tr>\n",
       "    <tr>\n",
       "      <th>175</th>\n",
       "      <td>30.5</td>\n",
       "      <td>82.16</td>\n",
       "      <td>M</td>\n",
       "      <td>Raw</td>\n",
       "      <td>290.0</td>\n",
       "      <td>195.0</td>\n",
       "      <td>300.0</td>\n",
       "    </tr>\n",
       "  </tbody>\n",
       "</table>\n",
       "</div>"
      ],
      "text/plain": [
       "      Age  BodyweightKg Sex Equipment  Best3SquatKg  Best3BenchKg  \\\n",
       "171  17.5         72.58   M       Raw         205.0         112.5   \n",
       "172  32.0         67.20   F       Raw         132.5          92.5   \n",
       "173  25.5         73.30   M       Raw         252.5         175.0   \n",
       "174  29.5         65.74   M       Raw         220.0         140.0   \n",
       "175  30.5         82.16   M       Raw         290.0         195.0   \n",
       "\n",
       "     Best3DeadliftKg  \n",
       "171            250.0  \n",
       "172            152.5  \n",
       "173            312.5  \n",
       "174            250.0  \n",
       "175            300.0  "
      ]
     },
     "metadata": {},
     "output_type": "display_data"
    }
   ],
   "source": [
    "import pandas as pd\n",
    "\n",
    "# --- 1. Cargar y Seleccionar ---\n",
    "file_path = r'D:\\OneDrive\\data-projects\\analisis-powerlifters-chilenos\\data\\powerliftingchile.csv'\n",
    "df_raw = pd.read_csv(file_path)\n",
    "\n",
    "# Seleccionamos las columnas de características y nuestros TRES nuevos objetivos\n",
    "cols_necesarias = [\n",
    "    'Age', 'BodyweightKg', 'Sex', 'Equipment',  # Características\n",
    "    'Best3SquatKg', 'Best3BenchKg', 'Best3DeadliftKg' # Objetivos\n",
    "]\n",
    "df_limpieza = df_raw[cols_necesarias].copy()\n",
    "\n",
    "# --- 2. Limpiar Datos ---\n",
    "print(f\"Registros antes de la limpieza: {len(df_limpieza)}\")\n",
    "\n",
    "# Eliminamos cualquier fila que tenga un valor nulo en CUALQUIERA de estas columnas\n",
    "df_limpio = df_limpieza.dropna()\n",
    "print(f\"Registros después de eliminar nulos: {len(df_limpio)}\")\n",
    "\n",
    "# Eliminamos filas donde cualquier levantamiento sea un intento fallido (negativo o cero)\n",
    "df_limpio = df_limpio[\n",
    "    (df_limpio['Best3SquatKg'] > 0) &\n",
    "    (df_limpio['Best3BenchKg'] > 0) &\n",
    "    (df_limpio['Best3DeadliftKg'] > 0)\n",
    "]\n",
    "print(f\"Registros después de eliminar levantamientos inválidos: {len(df_limpio)}\")\n",
    "\n",
    "# --- 3. Revisar el Resultado ---\n",
    "print(\"\\nDataFrame limpio y listo para el modelo multiobjetivo:\")\n",
    "display(df_limpio.head())"
   ]
  },
  {
   "cell_type": "code",
   "execution_count": 11,
   "id": "2381a8e2",
   "metadata": {},
   "outputs": [
    {
     "name": "stdout",
     "output_type": "stream",
     "text": [
      "Características (X):\n"
     ]
    },
    {
     "data": {
      "text/html": [
       "<div>\n",
       "<style scoped>\n",
       "    .dataframe tbody tr th:only-of-type {\n",
       "        vertical-align: middle;\n",
       "    }\n",
       "\n",
       "    .dataframe tbody tr th {\n",
       "        vertical-align: top;\n",
       "    }\n",
       "\n",
       "    .dataframe thead th {\n",
       "        text-align: right;\n",
       "    }\n",
       "</style>\n",
       "<table border=\"1\" class=\"dataframe\">\n",
       "  <thead>\n",
       "    <tr style=\"text-align: right;\">\n",
       "      <th></th>\n",
       "      <th>Age</th>\n",
       "      <th>BodyweightKg</th>\n",
       "      <th>Sex</th>\n",
       "      <th>Equipment</th>\n",
       "    </tr>\n",
       "  </thead>\n",
       "  <tbody>\n",
       "    <tr>\n",
       "      <th>171</th>\n",
       "      <td>17.5</td>\n",
       "      <td>72.58</td>\n",
       "      <td>M</td>\n",
       "      <td>Raw</td>\n",
       "    </tr>\n",
       "    <tr>\n",
       "      <th>172</th>\n",
       "      <td>32.0</td>\n",
       "      <td>67.20</td>\n",
       "      <td>F</td>\n",
       "      <td>Raw</td>\n",
       "    </tr>\n",
       "    <tr>\n",
       "      <th>173</th>\n",
       "      <td>25.5</td>\n",
       "      <td>73.30</td>\n",
       "      <td>M</td>\n",
       "      <td>Raw</td>\n",
       "    </tr>\n",
       "    <tr>\n",
       "      <th>174</th>\n",
       "      <td>29.5</td>\n",
       "      <td>65.74</td>\n",
       "      <td>M</td>\n",
       "      <td>Raw</td>\n",
       "    </tr>\n",
       "    <tr>\n",
       "      <th>175</th>\n",
       "      <td>30.5</td>\n",
       "      <td>82.16</td>\n",
       "      <td>M</td>\n",
       "      <td>Raw</td>\n",
       "    </tr>\n",
       "  </tbody>\n",
       "</table>\n",
       "</div>"
      ],
      "text/plain": [
       "      Age  BodyweightKg Sex Equipment\n",
       "171  17.5         72.58   M       Raw\n",
       "172  32.0         67.20   F       Raw\n",
       "173  25.5         73.30   M       Raw\n",
       "174  29.5         65.74   M       Raw\n",
       "175  30.5         82.16   M       Raw"
      ]
     },
     "metadata": {},
     "output_type": "display_data"
    },
    {
     "name": "stdout",
     "output_type": "stream",
     "text": [
      "\n",
      "Objetivos (y):\n"
     ]
    },
    {
     "data": {
      "text/html": [
       "<div>\n",
       "<style scoped>\n",
       "    .dataframe tbody tr th:only-of-type {\n",
       "        vertical-align: middle;\n",
       "    }\n",
       "\n",
       "    .dataframe tbody tr th {\n",
       "        vertical-align: top;\n",
       "    }\n",
       "\n",
       "    .dataframe thead th {\n",
       "        text-align: right;\n",
       "    }\n",
       "</style>\n",
       "<table border=\"1\" class=\"dataframe\">\n",
       "  <thead>\n",
       "    <tr style=\"text-align: right;\">\n",
       "      <th></th>\n",
       "      <th>Best3SquatKg</th>\n",
       "      <th>Best3BenchKg</th>\n",
       "      <th>Best3DeadliftKg</th>\n",
       "    </tr>\n",
       "  </thead>\n",
       "  <tbody>\n",
       "    <tr>\n",
       "      <th>171</th>\n",
       "      <td>205.0</td>\n",
       "      <td>112.5</td>\n",
       "      <td>250.0</td>\n",
       "    </tr>\n",
       "    <tr>\n",
       "      <th>172</th>\n",
       "      <td>132.5</td>\n",
       "      <td>92.5</td>\n",
       "      <td>152.5</td>\n",
       "    </tr>\n",
       "    <tr>\n",
       "      <th>173</th>\n",
       "      <td>252.5</td>\n",
       "      <td>175.0</td>\n",
       "      <td>312.5</td>\n",
       "    </tr>\n",
       "    <tr>\n",
       "      <th>174</th>\n",
       "      <td>220.0</td>\n",
       "      <td>140.0</td>\n",
       "      <td>250.0</td>\n",
       "    </tr>\n",
       "    <tr>\n",
       "      <th>175</th>\n",
       "      <td>290.0</td>\n",
       "      <td>195.0</td>\n",
       "      <td>300.0</td>\n",
       "    </tr>\n",
       "  </tbody>\n",
       "</table>\n",
       "</div>"
      ],
      "text/plain": [
       "     Best3SquatKg  Best3BenchKg  Best3DeadliftKg\n",
       "171         205.0         112.5            250.0\n",
       "172         132.5          92.5            152.5\n",
       "173         252.5         175.0            312.5\n",
       "174         220.0         140.0            250.0\n",
       "175         290.0         195.0            300.0"
      ]
     },
     "metadata": {},
     "output_type": "display_data"
    }
   ],
   "source": [
    "# X son las mismas características predictoras\n",
    "X = df_limpio[['Age', 'BodyweightKg', 'Sex', 'Equipment']]\n",
    "\n",
    "# y ahora son nuestros tres objetivos\n",
    "y = df_limpio[['Best3SquatKg', 'Best3BenchKg', 'Best3DeadliftKg']]\n",
    "\n",
    "print(\"Características (X):\")\n",
    "display(X.head())\n",
    "print(\"\\nObjetivos (y):\")\n",
    "display(y.head())"
   ]
  },
  {
   "cell_type": "code",
   "execution_count": 12,
   "id": "d41cbaae",
   "metadata": {},
   "outputs": [
    {
     "name": "stdout",
     "output_type": "stream",
     "text": [
      "Pipeline de preprocesamiento y modelo creado:\n",
      "Pipeline(steps=[('preprocessor',\n",
      "                 ColumnTransformer(remainder='passthrough',\n",
      "                                   transformers=[('cat',\n",
      "                                                  OneHotEncoder(handle_unknown='ignore'),\n",
      "                                                  ['Sex', 'Equipment'])])),\n",
      "                ('regressor',\n",
      "                 RandomForestRegressor(n_jobs=-1, random_state=42))])\n"
     ]
    }
   ],
   "source": [
    "# Identificar las características categóricas que necesitan ser transformadas\n",
    "categorical_features = ['Sex', 'Equipment']\n",
    "\n",
    "# Crear el transformador para las variables categóricas (OneHotEncoder)\n",
    "# OneHotEncoder crea nuevas columnas para cada categoría (ej. Sex_M, Sex_F)\n",
    "preprocessor = ColumnTransformer(\n",
    "    transformers=[\n",
    "        ('cat', OneHotEncoder(handle_unknown='ignore'), categorical_features)\n",
    "    ],\n",
    "    remainder='passthrough' # Mantiene las columnas numéricas (Age, BodyweightKg) sin cambios\n",
    ")\n",
    "\n",
    "# Definir el modelo que vamos a usar\n",
    "# RandomForestRegressor es una excelente opción para este tipo de problema.\n",
    "model = RandomForestRegressor(n_estimators=100, random_state=42, n_jobs=-1)\n",
    "\n",
    "# Ensamblar los pasos en un único pipeline\n",
    "pipeline = Pipeline(steps=[('preprocessor', preprocessor),\n",
    "                           ('regressor', model)])\n",
    "\n",
    "print(\"Pipeline de preprocesamiento y modelo creado:\")\n",
    "print(pipeline)"
   ]
  },
  {
   "cell_type": "code",
   "execution_count": 13,
   "id": "22341b12",
   "metadata": {},
   "outputs": [
    {
     "name": "stdout",
     "output_type": "stream",
     "text": [
      "Set de entrenamiento: 677 registros.\n",
      "Set de prueba: 170 registros.\n",
      "\n",
      "Entrenando el modelo... (esto podría tomar unos segundos)\n",
      "¡Entrenamiento completado!\n"
     ]
    }
   ],
   "source": [
    "# Dividir los datos: 80% para entrenar, 20% para probar\n",
    "X_train, X_test, y_train, y_test = train_test_split(X, y, test_size=0.2, random_state=42)\n",
    "\n",
    "print(f\"Set de entrenamiento: {len(X_train)} registros.\")\n",
    "print(f\"Set de prueba: {len(X_test)} registros.\")\n",
    "\n",
    "# Entrenar el pipeline con los datos de entrenamiento\n",
    "print(\"\\nEntrenando el modelo... (esto podría tomar unos segundos)\")\n",
    "pipeline.fit(X_train, y_train)\n",
    "\n",
    "print(\"¡Entrenamiento completado!\")"
   ]
  },
  {
   "cell_type": "code",
   "execution_count": 16,
   "id": "b0b32ce1",
   "metadata": {},
   "outputs": [
    {
     "name": "stdout",
     "output_type": "stream",
     "text": [
      "--- 📊 Evaluación del Modelo Multiobjetivo ---\n",
      "R² General (promedio de todos los objetivos): 0.77\n",
      "\n",
      "--- Error Promedio por Levantamiento (MAE) ---\n",
      "🏋️‍♂️ Sentadilla: El modelo se equivoca en promedio por 24.20 kg.\n",
      "🏋️‍♂️ Press de Banca: El modelo se equivoca en promedio por 14.36 kg.\n",
      "🏋️‍♂️ Peso Muerto: El modelo se equivoca en promedio por 21.78 kg.\n"
     ]
    }
   ],
   "source": [
    "# Dividir los datos (si no lo has hecho al re-ejecutar la celda 5)\n",
    "X_train, X_test, y_train, y_test = train_test_split(X, y, test_size=0.2, random_state=42)\n",
    "\n",
    "# Entrenar el modelo (si no lo has hecho)\n",
    "# pipeline.fit(X_train, y_train)\n",
    "\n",
    "# Realizar predicciones. 'y_pred' será un array con 3 columnas.\n",
    "y_pred = pipeline.predict(X_test)\n",
    "\n",
    "# Calcular R² general\n",
    "r2 = r2_score(y_test, y_pred)\n",
    "\n",
    "# Calcular el Error Absoluto Medio (MAE) para cada levantamiento\n",
    "mae_squat = mean_absolute_error(y_test['Best3SquatKg'], y_pred[:, 0])\n",
    "mae_bench = mean_absolute_error(y_test['Best3BenchKg'], y_pred[:, 1])\n",
    "mae_deadlift = mean_absolute_error(y_test['Best3DeadliftKg'], y_pred[:, 2])\n",
    "\n",
    "print(\"--- 📊 Evaluación del Modelo Multiobjetivo ---\")\n",
    "print(f\"R² General (promedio de todos los objetivos): {r2:.2f}\")\n",
    "print(\"\\n--- Error Promedio por Levantamiento (MAE) ---\")\n",
    "print(f\"🏋️‍♂️ Sentadilla: El modelo se equivoca en promedio por {mae_squat:.2f} kg.\")\n",
    "print(f\"🏋️‍♂️ Press de Banca: El modelo se equivoca en promedio por {mae_bench:.2f} kg.\")\n",
    "print(f\"🏋️‍♂️ Peso Muerto: El modelo se equivoca en promedio por {mae_deadlift:.2f} kg.\")"
   ]
  },
  {
   "cell_type": "code",
   "execution_count": 18,
   "id": "3d72107a",
   "metadata": {},
   "outputs": [
    {
     "name": "stdout",
     "output_type": "stream",
     "text": [
      "✅ ¡Nuevo modelo multiobjetivo guardado como 'powerlifting_multi_model.joblib'!\n"
     ]
    }
   ],
   "source": [
    "# Guardar el nuevo pipeline multiobjetivo\n",
    "model_filename = 'powerlifting_multi_model.joblib'\n",
    "joblib.dump(pipeline, model_filename)\n",
    "\n",
    "print(f\"✅ ¡Nuevo modelo multiobjetivo guardado como '{model_filename}'!\")"
   ]
  },
  {
   "cell_type": "code",
   "execution_count": null,
   "id": "bbd38ccb",
   "metadata": {},
   "outputs": [],
   "source": []
  }
 ],
 "metadata": {
  "kernelspec": {
   "display_name": "Python 3",
   "language": "python",
   "name": "python3"
  },
  "language_info": {
   "codemirror_mode": {
    "name": "ipython",
    "version": 3
   },
   "file_extension": ".py",
   "mimetype": "text/x-python",
   "name": "python",
   "nbconvert_exporter": "python",
   "pygments_lexer": "ipython3",
   "version": "3.13.2"
  }
 },
 "nbformat": 4,
 "nbformat_minor": 5
}
